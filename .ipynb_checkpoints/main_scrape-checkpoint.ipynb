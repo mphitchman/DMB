{
 "cells": [
  {
   "cell_type": "code",
   "execution_count": 18,
   "id": "d962ab85-909f-4b96-a195-5a78590d2e71",
   "metadata": {},
   "outputs": [],
   "source": []
  },
  {
   "cell_type": "code",
   "execution_count": 29,
   "id": "232bcaf4-3e59-42b6-a218-10e0a0d78303",
   "metadata": {},
   "outputs": [],
   "source": [
    "import pybaseball as pyb\n",
    "import pandas as pd\n",
    "\n",
    "def load_key():\n",
    "    return(pd.read_csv(\"https://mphitchman.com/DMB/keyID.csv\"))\n",
    "\n",
    "def load_hit():\n",
    "    df = pyb.fg_batting_data(start_season=2024,qual=10)\n",
    "    df = df.rename(columns={\"IDfg\": \"key_FG\",\"Team\":\"MLB\"})\n",
    "    df = df.merge(keyID[keyID['type']==\"B\"][['type','key_FG','RJML','SSBL','CJPL']],on=\"key_FG\",how='left').set_index('Name')\n",
    "    return(df)\n",
    "\n",
    "def load_fielding():\n",
    "    return(pyb.fielding_stats(start_season='2024',qual=3))\n",
    "   \n",
    "\n",
    "def load_pit():\n",
    "    pf = pyb.pitching_stats_bref() #baseball reference scrape to get stats needed for ops and rc\n",
    "    pf = pf.rename(columns={\"mlbID\": \"key_MLB\"})\n",
    "    pf[\"key_MLB\"] = pd.to_numeric(pf[\"key_MLB\"])\n",
    "    df = pyb.fg_pitching_data(start_season=2024,qual=10)\n",
    "    df = df.rename(columns={\"IDfg\": \"key_FG\",\"Team\":\"MLB\"})\n",
    "    df = df.merge(keyID[keyID['type']==\"P\"][['type','key_FG','key_MLB','RJML','SSBL','CJPL']],on=\"key_FG\",how='left')\n",
    "    df = df.merge(pf[['BF','AB','2B','3B','SF','GDP','SB','CS','key_MLB']],on='key_MLB',how='left')\n",
    "    return(df.set_index('Name'))\n",
    "\n",
    "def add_O(df):\n",
    "    df['O'] = df['H']+df['2B']+2*df['3B']+2*df['HR']+df['BB']+df['SB']+df['SH']+df['R'] + df['RBI']-df['CS']-df['GDP']\n",
    "    return(df)\n",
    "\n",
    "def IP_to_Inn(x):\n",
    "    import numpy as np\n",
    "    return(np.floor(x)+10*(x-np.floor(x))/3)\n",
    "\n",
    "def positions_played(key_FG):\n",
    "    '''assumes you've defined the dataframe 'fld' via fld = load_fielding()'''\n",
    "    df = fld[fld['IDfg'] == key_FG].sort_values(by=\"Inn\",ascending=False)\n",
    "    df['Pos'].tolist()\n",
    "    df['Pos'] = df['Pos'].fillna('')\n",
    "    return(\",\".join(df['Pos'].tolist())) \n",
    "\n",
    "#### scrape\n",
    "keyID=load_key()\n",
    "hit24 = add_O(load_hit())\n",
    "fld = load_fielding()\n",
    "hit24['Pos'] = hit24['key_FG'].apply(positions_played)\n",
    "pit24 = load_pit()\n",
    "pit24['Inn'] = pit24['IP'].apply(IP_to_Inn)\n",
    "hit24.to_csv(\"csv/hit24.csv\")\n",
    "pit24.to_csv(\"csv/pit24.csv\")\n"
   ]
  },
  {
   "cell_type": "code",
   "execution_count": 20,
   "id": "f465ceb5-8cdc-46a1-b524-6cd896c714d0",
   "metadata": {},
   "outputs": [],
   "source": []
  },
  {
   "cell_type": "code",
   "execution_count": null,
   "id": "eb0ded2d-8551-4910-903f-1c57615a7ff8",
   "metadata": {},
   "outputs": [],
   "source": []
  }
 ],
 "metadata": {
  "kernelspec": {
   "display_name": "Python 3 (ipykernel)",
   "language": "python",
   "name": "python3"
  },
  "language_info": {
   "codemirror_mode": {
    "name": "ipython",
    "version": 3
   },
   "file_extension": ".py",
   "mimetype": "text/x-python",
   "name": "python",
   "nbconvert_exporter": "python",
   "pygments_lexer": "ipython3",
   "version": "3.11.7"
  }
 },
 "nbformat": 4,
 "nbformat_minor": 5
}
