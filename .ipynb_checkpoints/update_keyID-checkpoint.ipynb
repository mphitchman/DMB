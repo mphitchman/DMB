{
 "cells": [
  {
   "cell_type": "code",
   "execution_count": 2,
   "id": "53c1a51f-2644-4b6e-9561-c769c7018940",
   "metadata": {},
   "outputs": [],
   "source": [
    "import pandas as pd"
   ]
  },
  {
   "cell_type": "code",
   "execution_count": 4,
   "id": "de42f4f3-2164-4f39-b121-feee35ff5f28",
   "metadata": {},
   "outputs": [],
   "source": [
    "keyID = pd.read_csv(\"csv/keyID.csv\")"
   ]
  },
  {
   "cell_type": "code",
   "execution_count": 6,
   "id": "6066b003-af32-410e-b743-bb7eb175519b",
   "metadata": {},
   "outputs": [
    {
     "data": {
      "text/html": [
       "<div>\n",
       "<style scoped>\n",
       "    .dataframe tbody tr th:only-of-type {\n",
       "        vertical-align: middle;\n",
       "    }\n",
       "\n",
       "    .dataframe tbody tr th {\n",
       "        vertical-align: top;\n",
       "    }\n",
       "\n",
       "    .dataframe thead th {\n",
       "        text-align: right;\n",
       "    }\n",
       "</style>\n",
       "<table border=\"1\" class=\"dataframe\">\n",
       "  <thead>\n",
       "    <tr style=\"text-align: right;\">\n",
       "      <th></th>\n",
       "      <th>Name</th>\n",
       "      <th>key_DMB</th>\n",
       "      <th>key_FG</th>\n",
       "      <th>key_MLB</th>\n",
       "      <th>key_bbref</th>\n",
       "      <th>type</th>\n",
       "      <th>RJML</th>\n",
       "      <th>CJPL</th>\n",
       "      <th>SSBL</th>\n",
       "    </tr>\n",
       "  </thead>\n",
       "  <tbody>\n",
       "    <tr>\n",
       "      <th>0</th>\n",
       "      <td>Miguel Cabrera</td>\n",
       "      <td>26367</td>\n",
       "      <td>1744</td>\n",
       "      <td>408234</td>\n",
       "      <td>cabremi01</td>\n",
       "      <td>B</td>\n",
       "      <td>avail</td>\n",
       "      <td>GDJ</td>\n",
       "      <td>WC</td>\n",
       "    </tr>\n",
       "    <tr>\n",
       "      <th>1</th>\n",
       "      <td>Adam Wainwright</td>\n",
       "      <td>26605</td>\n",
       "      <td>2233</td>\n",
       "      <td>425794</td>\n",
       "      <td>wainwad01</td>\n",
       "      <td>P</td>\n",
       "      <td>GH</td>\n",
       "      <td>avail</td>\n",
       "      <td>avail</td>\n",
       "    </tr>\n",
       "    <tr>\n",
       "      <th>2</th>\n",
       "      <td>Zack Greinke</td>\n",
       "      <td>26510</td>\n",
       "      <td>1943</td>\n",
       "      <td>425844</td>\n",
       "      <td>greinza01</td>\n",
       "      <td>P</td>\n",
       "      <td>HAL</td>\n",
       "      <td>JFS</td>\n",
       "      <td>ECB</td>\n",
       "    </tr>\n",
       "    <tr>\n",
       "      <th>3</th>\n",
       "      <td>Justin Verlander</td>\n",
       "      <td>26889</td>\n",
       "      <td>8700</td>\n",
       "      <td>434378</td>\n",
       "      <td>verlaju01</td>\n",
       "      <td>P</td>\n",
       "      <td>SV</td>\n",
       "      <td>RAH</td>\n",
       "      <td>CW</td>\n",
       "    </tr>\n",
       "    <tr>\n",
       "      <th>4</th>\n",
       "      <td>Nelson Cruz</td>\n",
       "      <td>26747</td>\n",
       "      <td>2434</td>\n",
       "      <td>443558</td>\n",
       "      <td>cruzne02</td>\n",
       "      <td>B</td>\n",
       "      <td>avail</td>\n",
       "      <td>avail</td>\n",
       "      <td>avail</td>\n",
       "    </tr>\n",
       "  </tbody>\n",
       "</table>\n",
       "</div>"
      ],
      "text/plain": [
       "               Name  key_DMB  key_FG  key_MLB  key_bbref type   RJML   CJPL  \\\n",
       "0    Miguel Cabrera    26367    1744   408234  cabremi01    B  avail    GDJ   \n",
       "1   Adam Wainwright    26605    2233   425794  wainwad01    P     GH  avail   \n",
       "2      Zack Greinke    26510    1943   425844  greinza01    P    HAL    JFS   \n",
       "3  Justin Verlander    26889    8700   434378  verlaju01    P     SV    RAH   \n",
       "4       Nelson Cruz    26747    2434   443558   cruzne02    B  avail  avail   \n",
       "\n",
       "    SSBL  \n",
       "0     WC  \n",
       "1  avail  \n",
       "2    ECB  \n",
       "3     CW  \n",
       "4  avail  "
      ]
     },
     "execution_count": 6,
     "metadata": {},
     "output_type": "execute_result"
    }
   ],
   "source": [
    "keyID.head(5)"
   ]
  },
  {
   "cell_type": "code",
   "execution_count": 8,
   "id": "f8565c15-2615-4f5a-910a-e85bfedd81ec",
   "metadata": {},
   "outputs": [],
   "source": [
    "import pybaseball as pyb"
   ]
  },
  {
   "cell_type": "code",
   "execution_count": 64,
   "id": "be27d4dc-994e-4478-ab31-297402e2e9b8",
   "metadata": {},
   "outputs": [],
   "source": [
    "def load_hit():\n",
    "    df = pyb.fg_batting_data(start_season=2024,qual=10)\n",
    "    df = df.rename(columns={\"IDfg\": \"key_FG\",\"Team\":\"MLB\"})\n",
    "    df = df.merge(keyID[keyID['type']==\"B\"][['type','key_FG','RJML','SSBL','CJPL']],on=\"key_FG\",how='left').set_index('Name')\n",
    "    return(df)\n",
    "\n",
    "def load_pit():\n",
    "    pf = pyb.pitching_stats_bref() #baseball reference scrape to get stats needed for ops and rc\n",
    "    pf = pf.rename(columns={\"mlbID\": \"key_MLB\"})\n",
    "    pf[\"key_MLB\"] = pd.to_numeric(pf[\"key_MLB\"])\n",
    "    df = pyb.fg_pitching_data(start_season=2024,qual=10)\n",
    "    df = df.rename(columns={\"IDfg\": \"key_FG\",\"Team\":\"MLB\"})\n",
    "    df = df.merge(keyID[keyID['type']==\"P\"][['type','key_FG','key_MLB','RJML','SSBL','CJPL']],on=\"key_FG\",how='left')\n",
    "    df = df.merge(pf[['BF','AB','2B','3B','SF','GDP','SB','CS','key_MLB']],on='key_MLB',how='left')\n",
    "    return(df.set_index('Name'))"
   ]
  },
  {
   "cell_type": "code",
   "execution_count": 24,
   "id": "0e7e8e1c-4a72-41ee-9b35-7f6151986cf6",
   "metadata": {},
   "outputs": [],
   "source": [
    "hit24 = load_hit()\n",
    "pit24 = load_pit()"
   ]
  },
  {
   "cell_type": "code",
   "execution_count": 154,
   "id": "0a65df30-09cc-4431-abe3-8dc3e1b73c36",
   "metadata": {},
   "outputs": [],
   "source": [
    "hit_new = hit24[hit24.RJML.isna()]\n",
    "hit_new = hit_new[['key_FG','PA','WAR','type','RJML','SSBL','CJPL']]\n",
    "hit_new['type']=\"B\"\n",
    "pit_new = pit24[pit24.RJML.isna()]\n",
    "pit_new = pit_new[['key_FG','GS','TBF','WAR','type','RJML','SSBL','CJPL']]\n",
    "#pit_new = pit_new.rename(columns={'TBF': 'PA'})\n",
    "pit_new['type']=\"P\""
   ]
  },
  {
   "cell_type": "code",
   "execution_count": 158,
   "id": "03107fac-3efa-46c5-a541-148d8ec0d301",
   "metadata": {},
   "outputs": [
    {
     "data": {
      "text/plain": [
       "<bound method DataFrame.reset_index of                  key_FG   PA  WAR type RJML SSBL CJPL\n",
       "Name                                                 \n",
       "Jackson Merrill   29490  376  2.4    B  NaN  NaN  NaN\n",
       "Max Schuemann     24488  280  1.7    B  NaN  NaN  NaN\n",
       "Jackson Chourio   28806  321  1.7    B  NaN  NaN  NaN\n",
       "Jose Iglesias     10231  109  1.4    B  NaN  NaN  NaN\n",
       "Wenceel Perez     22857  326  1.1    B  NaN  NaN  NaN\n",
       "...                 ...  ...  ...  ...  ...  ...  ...\n",
       "Keston Hiura      20003   27 -0.5    B  NaN  NaN  NaN\n",
       "Jordan Beck       31431   81 -0.6    B  NaN  NaN  NaN\n",
       "Addison Barger    24598   64 -0.7    B  NaN  NaN  NaN\n",
       "Niko Goodrum      12092   33 -0.8    B  NaN  NaN  NaN\n",
       "Victor Scott      31349   65 -0.9    B  NaN  NaN  NaN\n",
       "\n",
       "[67 rows x 7 columns]>"
      ]
     },
     "execution_count": 158,
     "metadata": {},
     "output_type": "execute_result"
    }
   ],
   "source": [
    "hit_new.reset_index\n",
    "pit_new.reset_index"
   ]
  },
  {
   "cell_type": "code",
   "execution_count": 166,
   "id": "b7117f35-9058-4186-bc3d-ef0b0f8047cc",
   "metadata": {},
   "outputs": [],
   "source": [
    "keyID_new = pd.concat([hit_new,pit_new])"
   ]
  },
  {
   "cell_type": "code",
   "execution_count": 172,
   "id": "b672844a-f076-4b7c-8b51-aa21677aa096",
   "metadata": {},
   "outputs": [
    {
     "data": {
      "text/plain": [
       "True"
      ]
     },
     "execution_count": 172,
     "metadata": {},
     "output_type": "execute_result"
    }
   ],
   "source": [
    "hit24.columns"
   ]
  },
  {
   "cell_type": "code",
   "execution_count": 174,
   "id": "91ca5347-73f3-4298-b1ec-649b5fda6f30",
   "metadata": {},
   "outputs": [],
   "source": [
    "# pitching stats from bbref to calculate OPS\n",
    "pf = pyb.pitching_stats_bref()\n",
    "pf = pf.rename(columns={\"mlbID\": \"key_MLB\",\"Name\": \"Name_bbref\"})\n",
    "pf[\"key_MLB\"] = pd.to_numeric(pf[\"key_MLB\"])"
   ]
  },
  {
   "cell_type": "code",
   "execution_count": 178,
   "id": "aa60069f-437a-485f-8a81-20df0c570871",
   "metadata": {},
   "outputs": [
    {
     "data": {
      "text/plain": [
       "Index(['Name_bbref', 'Age', '#days', 'Lev', 'Tm', 'G', 'GS', 'W', 'L', 'SV',\n",
       "       'IP', 'H', 'R', 'ER', 'BB', 'SO', 'HR', 'HBP', 'ERA', 'AB', '2B', '3B',\n",
       "       'IBB', 'GDP', 'SF', 'SB', 'CS', 'PO', 'BF', 'Pit', 'Str', 'StL', 'StS',\n",
       "       'GB/FB', 'LD', 'PU', 'WHIP', 'BAbip', 'SO9', 'SO/W', 'key_MLB'],\n",
       "      dtype='object')"
      ]
     },
     "execution_count": 178,
     "metadata": {},
     "output_type": "execute_result"
    }
   ],
   "source": [
    "pf.columns"
   ]
  },
  {
   "cell_type": "code",
   "execution_count": 186,
   "id": "2c594bd3-f9a6-4a0b-b6a7-6aca7456d6b8",
   "metadata": {},
   "outputs": [],
   "source": [
    "names = keyID_new.index.to_list()"
   ]
  },
  {
   "cell_type": "code",
   "execution_count": 250,
   "id": "88b7f223-8e05-49ad-9c53-d3cd9b39b8b5",
   "metadata": {},
   "outputs": [
    {
     "data": {
      "text/plain": [
       "['Jackson Merrill',\n",
       " 'Max Schuemann',\n",
       " 'Jackson Chourio',\n",
       " 'Jose Iglesias',\n",
       " 'Wenceel Perez',\n",
       " 'Colt Keith',\n",
       " 'Otto Lopez',\n",
       " 'Rece Hinds',\n",
       " 'Andy Pages',\n",
       " 'Wyatt Langford',\n",
       " 'Rafael Marchan',\n",
       " 'Jhonkensy Noel',\n",
       " 'Kyle McCann',\n",
       " 'Daniel Schneemann',\n",
       " 'Justyn-Henry Malloy',\n",
       " 'David Bote',\n",
       " 'Angel Martinez',\n",
       " 'Benjamin Rice',\n",
       " 'Joey Loperfido',\n",
       " 'Brooks Lee',\n",
       " 'Ryan Bliss',\n",
       " 'Connor Norby',\n",
       " 'Austin Shenton',\n",
       " 'Jung Hoo Lee',\n",
       " 'Oliver Dunn',\n",
       " 'Ryan Vilade',\n",
       " 'Blaze Alexander',\n",
       " 'Tyler Black',\n",
       " 'Armando Alvarez',\n",
       " 'Pedro Pages',\n",
       " 'Leo Jimenez',\n",
       " 'Tyler Locklear',\n",
       " 'Jacob Hurtubise',\n",
       " 'Jorge Barrosa',\n",
       " 'Ali Sanchez',\n",
       " 'Jamie Westbrook',\n",
       " 'Daz Cameron',\n",
       " 'Miguel Sano',\n",
       " 'Jonatan Clase',\n",
       " 'Jakson Reetz',\n",
       " 'Trenton Brooks',\n",
       " 'Nasim Nunez',\n",
       " 'Brett Harris',\n",
       " 'Johnathan Rodriguez',\n",
       " 'Darell Hernaiz',\n",
       " 'Zach DeLoach',\n",
       " 'Justin Foscue',\n",
       " 'Levi Jordan',\n",
       " 'Riley Baldwin',\n",
       " 'Blake Dunn',\n",
       " 'Ignacio Alvarez',\n",
       " 'LaVictor Lipscomb',\n",
       " 'Graham Pauley',\n",
       " 'Davis Wendzel',\n",
       " 'Jackson Holliday',\n",
       " 'Austin Martin',\n",
       " 'Kyle Manzardo',\n",
       " 'Bryan Ramos',\n",
       " 'Alex Jackson',\n",
       " 'Adael Amador',\n",
       " 'Aaron Schunk',\n",
       " 'James Wood',\n",
       " 'Keston Hiura',\n",
       " 'Jordan Beck',\n",
       " 'Addison Barger',\n",
       " 'Niko Goodrum',\n",
       " 'Victor Scott',\n",
       " 'Erick Fedde',\n",
       " 'Shota Imanaga',\n",
       " 'Yoshinobu Yamamoto',\n",
       " 'Paul Skenes',\n",
       " 'Cade Smith',\n",
       " 'Jared Jones',\n",
       " 'Justin Slaten',\n",
       " 'Mitchell Parker',\n",
       " 'Ben Brown',\n",
       " 'Albert Suarez',\n",
       " 'Tobias Myers',\n",
       " 'Spencer Arrighetti',\n",
       " 'Dedniel Nunez',\n",
       " 'Yariel Rodriguez',\n",
       " 'Jonathan Cannon',\n",
       " 'Mitch Spence',\n",
       " 'Spencer Schwellenbach',\n",
       " 'Robert Gasser',\n",
       " 'Blake Treinen',\n",
       " 'Hunter Strickland',\n",
       " 'Joe Ross',\n",
       " 'Cam Booser',\n",
       " 'Jared Koenig',\n",
       " 'Anthony Bender',\n",
       " 'Yuki Matsui',\n",
       " 'Ryan Fernandez',\n",
       " 'Justin Wilson',\n",
       " 'Grant Holmes',\n",
       " 'Hans Crouse',\n",
       " 'Andrew Thorpe',\n",
       " 'Burch Smith',\n",
       " 'Porter Hodge',\n",
       " 'Christian Scott',\n",
       " 'Randy Rodriguez',\n",
       " 'DJ Herz',\n",
       " 'Valente Bellozo',\n",
       " 'Justin Anderson',\n",
       " 'Cody Poteet',\n",
       " 'Stephen Kolek',\n",
       " 'Tyler Phillips',\n",
       " 'Landon Knack',\n",
       " 'Dillon Tate',\n",
       " 'Enoli Paredes',\n",
       " 'Chris Roycroft',\n",
       " 'Kyle Tyler',\n",
       " 'Tyler Ferguson',\n",
       " 'Erik Miller',\n",
       " 'Hayden Birdsong',\n",
       " 'Bryan King',\n",
       " 'Blake Walston',\n",
       " 'Brendon Little',\n",
       " 'Humberto Castellanos',\n",
       " 'Sixto Sanchez',\n",
       " 'Anthony Maldonado',\n",
       " 'Yilber Diaz',\n",
       " 'Anthony Molina',\n",
       " 'Nick Avila',\n",
       " 'Jacob Waguespack',\n",
       " 'Ryan Burr',\n",
       " 'Logan Allen',\n",
       " 'Landen Roupp',\n",
       " 'Carlos Rodriguez',\n",
       " 'Cole Winn',\n",
       " 'Keider Montero',\n",
       " 'Justin Wrobleski',\n",
       " 'Aaron Brooks',\n",
       " 'Jesus Tinoco',\n",
       " 'Bailey Horn',\n",
       " 'Ricardo Pinto',\n",
       " 'Michael Petersen',\n",
       " 'Manuel Rodriguez',\n",
       " 'Adam Mazur',\n",
       " 'David Festa',\n",
       " 'Tyler Beede',\n",
       " 'Elieser Hernandez',\n",
       " 'Matt Sauer',\n",
       " 'J.P. Feyereisen',\n",
       " 'Kai-Wei Teng',\n",
       " 'Tyler Matzek',\n",
       " 'Spencer Bivens',\n",
       " 'Cade Povich',\n",
       " 'John Bloss',\n",
       " 'Daulton Jefferies',\n",
       " 'Jordan Leasure',\n",
       " 'Mason Black',\n",
       " 'Michael Mercado',\n",
       " 'Nick Nastrini',\n",
       " 'Roddery Munoz']"
      ]
     },
     "execution_count": 250,
     "metadata": {},
     "output_type": "execute_result"
    }
   ],
   "source": [
    "keys = pyb.playerid_lookup(nm[1],nm[0])"
   ]
  },
  {
   "cell_type": "code",
   "execution_count": 196,
   "id": "94f3ff09-3c82-4450-83a5-29da8779c7fd",
   "metadata": {},
   "outputs": [],
   "source": [
    "nm = name.split(\" \")"
   ]
  },
  {
   "cell_type": "code",
   "execution_count": 202,
   "id": "75996196-bb60-4137-b5e2-4a872646696c",
   "metadata": {},
   "outputs": [
    {
     "data": {
      "text/plain": [
       "'Jackson Merrill'"
      ]
     },
     "execution_count": 202,
     "metadata": {},
     "output_type": "execute_result"
    }
   ],
   "source": [
    "name"
   ]
  },
  {
   "cell_type": "code",
   "execution_count": 216,
   "id": "5a6ce949-9616-470b-8cf7-c765cd4e9da3",
   "metadata": {},
   "outputs": [
    {
     "data": {
      "text/html": [
       "<div>\n",
       "<style scoped>\n",
       "    .dataframe tbody tr th:only-of-type {\n",
       "        vertical-align: middle;\n",
       "    }\n",
       "\n",
       "    .dataframe tbody tr th {\n",
       "        vertical-align: top;\n",
       "    }\n",
       "\n",
       "    .dataframe thead th {\n",
       "        text-align: right;\n",
       "    }\n",
       "</style>\n",
       "<table border=\"1\" class=\"dataframe\">\n",
       "  <thead>\n",
       "    <tr style=\"text-align: right;\">\n",
       "      <th></th>\n",
       "      <th>name_last</th>\n",
       "      <th>name_first</th>\n",
       "      <th>key_mlbam</th>\n",
       "      <th>key_retro</th>\n",
       "      <th>key_bbref</th>\n",
       "      <th>key_fangraphs</th>\n",
       "      <th>mlb_played_first</th>\n",
       "      <th>mlb_played_last</th>\n",
       "    </tr>\n",
       "  </thead>\n",
       "  <tbody>\n",
       "    <tr>\n",
       "      <th>0</th>\n",
       "      <td>merrill</td>\n",
       "      <td>jackson</td>\n",
       "      <td>701538</td>\n",
       "      <td>merrj002</td>\n",
       "      <td>merrija01</td>\n",
       "      <td>29490</td>\n",
       "      <td>2024.0</td>\n",
       "      <td>2024.0</td>\n",
       "    </tr>\n",
       "  </tbody>\n",
       "</table>\n",
       "</div>"
      ],
      "text/plain": [
       "  name_last name_first  key_mlbam key_retro  key_bbref  key_fangraphs  \\\n",
       "0   merrill    jackson     701538  merrj002  merrija01          29490   \n",
       "\n",
       "   mlb_played_first  mlb_played_last  \n",
       "0            2024.0           2024.0  "
      ]
     },
     "execution_count": 216,
     "metadata": {},
     "output_type": "execute_result"
    }
   ],
   "source": [
    "x = pyb.playerid_lookup(nm[1],nm[0])\n",
    "x"
   ]
  },
  {
   "cell_type": "code",
   "execution_count": 222,
   "id": "e225a76f-06c5-404d-86e5-061326a26309",
   "metadata": {},
   "outputs": [
    {
     "data": {
      "text/plain": [
       "'merrj002'"
      ]
     },
     "execution_count": 222,
     "metadata": {},
     "output_type": "execute_result"
    }
   ],
   "source": [
    "x.iloc[0,3]"
   ]
  },
  {
   "cell_type": "code",
   "execution_count": null,
   "id": "394ebf3e-0504-47fd-a43e-ce66d4bb3a6d",
   "metadata": {},
   "outputs": [],
   "source": [
    "\n",
    "\n",
    "pyb.playerid_lookup("
   ]
  },
  {
   "cell_type": "code",
   "execution_count": 224,
   "id": "9003c3b5-eea7-43e8-950b-e57c661a1393",
   "metadata": {},
   "outputs": [],
   "source": [
    "def idlookup(name):\n",
    "    nm = name.split(\" \")\n",
    "    x = pyb.playerid_lookup(nm[1],nm[0])\n",
    "    key_FG = x.iloc[0,5]\n",
    "    key_MLB = x.iloc[0,2]\n",
    "    key_bbref = x.iloc[0,3]\n",
    "    return([key_FG,key_MLB,key_bbref])"
   ]
  },
  {
   "cell_type": "code",
   "execution_count": 254,
   "id": "0910464c-7a27-4cde-b82e-9b1cd875fb60",
   "metadata": {},
   "outputs": [
    {
     "name": "stdout",
     "output_type": "stream",
     "text": [
      "<class 'pandas.core.frame.DataFrame'>\n",
      "RangeIndex: 1 entries, 0 to 0\n",
      "Data columns (total 8 columns):\n",
      " #   Column            Non-Null Count  Dtype  \n",
      "---  ------            --------------  -----  \n",
      " 0   name_last         1 non-null      object \n",
      " 1   name_first        1 non-null      object \n",
      " 2   key_mlbam         1 non-null      int64  \n",
      " 3   key_retro         1 non-null      object \n",
      " 4   key_bbref         1 non-null      object \n",
      " 5   key_fangraphs     1 non-null      int64  \n",
      " 6   mlb_played_first  1 non-null      float64\n",
      " 7   mlb_played_last   1 non-null      float64\n",
      "dtypes: float64(2), int64(2), object(4)\n",
      "memory usage: 196.0+ bytes\n"
     ]
    }
   ],
   "source": [
    "nm = names[0].split(\" \")\n",
    "keys = pyb.playerid_lookup(nm[1],nm[0])"
   ]
  },
  {
   "cell_type": "code",
   "execution_count": 260,
   "id": "da9f957e-4eab-4080-bcbf-4ae852690cb9",
   "metadata": {},
   "outputs": [],
   "source": [
    "for i in range(1,len(names)):\n",
    "    nm = names[i].split(\" \")\n",
    "    df = pyb.playerid_lookup(nm[1],nm[0])\n",
    "    keys = pd.concat([keys,df])"
   ]
  },
  {
   "cell_type": "code",
   "execution_count": 262,
   "id": "5a47bd87-dc5f-446c-ba95-b923e2f9485f",
   "metadata": {},
   "outputs": [
    {
     "data": {
      "text/html": [
       "<div>\n",
       "<style scoped>\n",
       "    .dataframe tbody tr th:only-of-type {\n",
       "        vertical-align: middle;\n",
       "    }\n",
       "\n",
       "    .dataframe tbody tr th {\n",
       "        vertical-align: top;\n",
       "    }\n",
       "\n",
       "    .dataframe thead th {\n",
       "        text-align: right;\n",
       "    }\n",
       "</style>\n",
       "<table border=\"1\" class=\"dataframe\">\n",
       "  <thead>\n",
       "    <tr style=\"text-align: right;\">\n",
       "      <th></th>\n",
       "      <th>name_last</th>\n",
       "      <th>name_first</th>\n",
       "      <th>key_mlbam</th>\n",
       "      <th>key_retro</th>\n",
       "      <th>key_bbref</th>\n",
       "      <th>key_fangraphs</th>\n",
       "      <th>mlb_played_first</th>\n",
       "      <th>mlb_played_last</th>\n",
       "    </tr>\n",
       "  </thead>\n",
       "  <tbody>\n",
       "    <tr>\n",
       "      <th>0</th>\n",
       "      <td>merrill</td>\n",
       "      <td>jackson</td>\n",
       "      <td>701538</td>\n",
       "      <td>merrj002</td>\n",
       "      <td>merrija01</td>\n",
       "      <td>29490</td>\n",
       "      <td>2024.0</td>\n",
       "      <td>2024.0</td>\n",
       "    </tr>\n",
       "    <tr>\n",
       "      <th>0</th>\n",
       "      <td>schuemann</td>\n",
       "      <td>max</td>\n",
       "      <td>680474</td>\n",
       "      <td>NaN</td>\n",
       "      <td>schuema01</td>\n",
       "      <td>-1</td>\n",
       "      <td>2024.0</td>\n",
       "      <td>2024.0</td>\n",
       "    </tr>\n",
       "    <tr>\n",
       "      <th>0</th>\n",
       "      <td>chourio</td>\n",
       "      <td>jackson</td>\n",
       "      <td>694192</td>\n",
       "      <td>chouj001</td>\n",
       "      <td>chourja01</td>\n",
       "      <td>28806</td>\n",
       "      <td>2024.0</td>\n",
       "      <td>2024.0</td>\n",
       "    </tr>\n",
       "    <tr>\n",
       "      <th>0</th>\n",
       "      <td>iglesias</td>\n",
       "      <td>jose</td>\n",
       "      <td>578428</td>\n",
       "      <td>iglej001</td>\n",
       "      <td>iglesjo01</td>\n",
       "      <td>10231</td>\n",
       "      <td>2011.0</td>\n",
       "      <td>2024.0</td>\n",
       "    </tr>\n",
       "    <tr>\n",
       "      <th>0</th>\n",
       "      <td>keith</td>\n",
       "      <td>colt</td>\n",
       "      <td>690993</td>\n",
       "      <td>keitc001</td>\n",
       "      <td>keithco01</td>\n",
       "      <td>27899</td>\n",
       "      <td>2024.0</td>\n",
       "      <td>2024.0</td>\n",
       "    </tr>\n",
       "    <tr>\n",
       "      <th>...</th>\n",
       "      <td>...</td>\n",
       "      <td>...</td>\n",
       "      <td>...</td>\n",
       "      <td>...</td>\n",
       "      <td>...</td>\n",
       "      <td>...</td>\n",
       "      <td>...</td>\n",
       "      <td>...</td>\n",
       "    </tr>\n",
       "    <tr>\n",
       "      <th>0</th>\n",
       "      <td>jefferies</td>\n",
       "      <td>daulton</td>\n",
       "      <td>641726</td>\n",
       "      <td>jeffd001</td>\n",
       "      <td>jeffeda01</td>\n",
       "      <td>19345</td>\n",
       "      <td>2020.0</td>\n",
       "      <td>2024.0</td>\n",
       "    </tr>\n",
       "    <tr>\n",
       "      <th>0</th>\n",
       "      <td>leasure</td>\n",
       "      <td>jordan</td>\n",
       "      <td>673929</td>\n",
       "      <td>leasj001</td>\n",
       "      <td>leasujo01</td>\n",
       "      <td>29950</td>\n",
       "      <td>2024.0</td>\n",
       "      <td>2024.0</td>\n",
       "    </tr>\n",
       "    <tr>\n",
       "      <th>0</th>\n",
       "      <td>black</td>\n",
       "      <td>mason</td>\n",
       "      <td>696131</td>\n",
       "      <td>NaN</td>\n",
       "      <td>blackma01</td>\n",
       "      <td>-1</td>\n",
       "      <td>2024.0</td>\n",
       "      <td>2024.0</td>\n",
       "    </tr>\n",
       "    <tr>\n",
       "      <th>0</th>\n",
       "      <td>mercado</td>\n",
       "      <td>michael</td>\n",
       "      <td>675650</td>\n",
       "      <td>NaN</td>\n",
       "      <td>mercami01</td>\n",
       "      <td>-1</td>\n",
       "      <td>2024.0</td>\n",
       "      <td>2024.0</td>\n",
       "    </tr>\n",
       "    <tr>\n",
       "      <th>0</th>\n",
       "      <td>nastrini</td>\n",
       "      <td>nick</td>\n",
       "      <td>680897</td>\n",
       "      <td>NaN</td>\n",
       "      <td>nastrni01</td>\n",
       "      <td>-1</td>\n",
       "      <td>2024.0</td>\n",
       "      <td>2024.0</td>\n",
       "    </tr>\n",
       "  </tbody>\n",
       "</table>\n",
       "<p>131 rows × 8 columns</p>\n",
       "</div>"
      ],
      "text/plain": [
       "    name_last name_first  key_mlbam key_retro  key_bbref  key_fangraphs  \\\n",
       "0     merrill    jackson     701538  merrj002  merrija01          29490   \n",
       "0   schuemann        max     680474       NaN  schuema01             -1   \n",
       "0     chourio    jackson     694192  chouj001  chourja01          28806   \n",
       "0    iglesias       jose     578428  iglej001  iglesjo01          10231   \n",
       "0       keith       colt     690993  keitc001  keithco01          27899   \n",
       "..        ...        ...        ...       ...        ...            ...   \n",
       "0   jefferies    daulton     641726  jeffd001  jeffeda01          19345   \n",
       "0     leasure     jordan     673929  leasj001  leasujo01          29950   \n",
       "0       black      mason     696131       NaN  blackma01             -1   \n",
       "0     mercado    michael     675650       NaN  mercami01             -1   \n",
       "0    nastrini       nick     680897       NaN  nastrni01             -1   \n",
       "\n",
       "    mlb_played_first  mlb_played_last  \n",
       "0             2024.0           2024.0  \n",
       "0             2024.0           2024.0  \n",
       "0             2024.0           2024.0  \n",
       "0             2011.0           2024.0  \n",
       "0             2024.0           2024.0  \n",
       "..               ...              ...  \n",
       "0             2020.0           2024.0  \n",
       "0             2024.0           2024.0  \n",
       "0             2024.0           2024.0  \n",
       "0             2024.0           2024.0  \n",
       "0             2024.0           2024.0  \n",
       "\n",
       "[131 rows x 8 columns]"
      ]
     },
     "execution_count": 262,
     "metadata": {},
     "output_type": "execute_result"
    }
   ],
   "source": [
    "keys"
   ]
  }
 ],
 "metadata": {
  "kernelspec": {
   "display_name": "Python 3 (ipykernel)",
   "language": "python",
   "name": "python3"
  },
  "language_info": {
   "codemirror_mode": {
    "name": "ipython",
    "version": 3
   },
   "file_extension": ".py",
   "mimetype": "text/x-python",
   "name": "python",
   "nbconvert_exporter": "python",
   "pygments_lexer": "ipython3",
   "version": "3.11.7"
  }
 },
 "nbformat": 4,
 "nbformat_minor": 5
}
