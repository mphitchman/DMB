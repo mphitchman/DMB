{
 "cells": [
  {
   "cell_type": "code",
   "execution_count": 1,
   "id": "c870d74b-9625-4bb4-9549-7b5d3acd71ff",
   "metadata": {},
   "outputs": [],
   "source": [
    "import pybaseball as pyb\n",
    "import pandas as pd\n",
    "from datetime import datetime"
   ]
  },
  {
   "cell_type": "code",
   "execution_count": 3,
   "id": "fb4c6fea-6066-45ee-9518-361303a9e950",
   "metadata": {},
   "outputs": [],
   "source": [
    "def load_key():\n",
    "    return(pd.read_csv(\"https://mphitchman.com/DMB/csv/keyID.csv\"))\n",
    "\n",
    "def load_hit():\n",
    "    df = pyb.fg_batting_data(start_season=2024,qual=10)\n",
    "    df = df.rename(columns={\"IDfg\": \"key_FG\",\"Team\":\"MLB\"})\n",
    "    df = df.merge(keyID[keyID['type']==\"B\"][['type','key_FG','RJML','SSBL','CJPL']],on=\"key_FG\",how='left').set_index('Name')\n",
    "    return(df)"
   ]
  },
  {
   "cell_type": "code",
   "execution_count": 5,
   "id": "0958d961-59e2-476e-88d8-80c5c2cd6fe7",
   "metadata": {},
   "outputs": [],
   "source": [
    "keyID = load_key()"
   ]
  },
  {
   "cell_type": "code",
   "execution_count": 7,
   "id": "cd7ed2ba-4b71-4a33-ab8b-ec4f7c2377cd",
   "metadata": {},
   "outputs": [],
   "source": [
    "hit = load_hit()"
   ]
  },
  {
   "cell_type": "code",
   "execution_count": 11,
   "id": "bfa0fc53-1d43-4f8c-a6e4-a648137c493d",
   "metadata": {},
   "outputs": [
    {
     "data": {
      "text/html": [
       "<div>\n",
       "<style scoped>\n",
       "    .dataframe tbody tr th:only-of-type {\n",
       "        vertical-align: middle;\n",
       "    }\n",
       "\n",
       "    .dataframe tbody tr th {\n",
       "        vertical-align: top;\n",
       "    }\n",
       "\n",
       "    .dataframe thead th {\n",
       "        text-align: right;\n",
       "    }\n",
       "</style>\n",
       "<table border=\"1\" class=\"dataframe\">\n",
       "  <thead>\n",
       "    <tr style=\"text-align: right;\">\n",
       "      <th></th>\n",
       "      <th>HR</th>\n",
       "    </tr>\n",
       "    <tr>\n",
       "      <th>Name</th>\n",
       "      <th></th>\n",
       "    </tr>\n",
       "  </thead>\n",
       "  <tbody>\n",
       "    <tr>\n",
       "      <th>Bobby Witt Jr.</th>\n",
       "      <td>19</td>\n",
       "    </tr>\n",
       "    <tr>\n",
       "      <th>Aaron Judge</th>\n",
       "      <td>38</td>\n",
       "    </tr>\n",
       "    <tr>\n",
       "      <th>Juan Soto</th>\n",
       "      <td>25</td>\n",
       "    </tr>\n",
       "    <tr>\n",
       "      <th>Gunnar Henderson</th>\n",
       "      <td>29</td>\n",
       "    </tr>\n",
       "    <tr>\n",
       "      <th>Jarren Duran</th>\n",
       "      <td>14</td>\n",
       "    </tr>\n",
       "  </tbody>\n",
       "</table>\n",
       "</div>"
      ],
      "text/plain": [
       "                  HR\n",
       "Name                \n",
       "Bobby Witt Jr.    19\n",
       "Aaron Judge       38\n",
       "Juan Soto         25\n",
       "Gunnar Henderson  29\n",
       "Jarren Duran      14"
      ]
     },
     "execution_count": 11,
     "metadata": {},
     "output_type": "execute_result"
    }
   ],
   "source": [
    "hit[['HR']].head(5)"
   ]
  },
  {
   "cell_type": "code",
   "execution_count": 15,
   "id": "95d2b455-0201-49b7-a6ef-53379d0ae30a",
   "metadata": {},
   "outputs": [],
   "source": [
    "data = pyb.batting_stats(2024, qual=10)"
   ]
  },
  {
   "cell_type": "code",
   "execution_count": 21,
   "id": "58ae7ece-4b3a-459d-aa64-1f4f197519ba",
   "metadata": {},
   "outputs": [
    {
     "data": {
      "text/html": [
       "<div>\n",
       "<style scoped>\n",
       "    .dataframe tbody tr th:only-of-type {\n",
       "        vertical-align: middle;\n",
       "    }\n",
       "\n",
       "    .dataframe tbody tr th {\n",
       "        vertical-align: top;\n",
       "    }\n",
       "\n",
       "    .dataframe thead th {\n",
       "        text-align: right;\n",
       "    }\n",
       "</style>\n",
       "<table border=\"1\" class=\"dataframe\">\n",
       "  <thead>\n",
       "    <tr style=\"text-align: right;\">\n",
       "      <th></th>\n",
       "      <th>Name</th>\n",
       "      <th>HR</th>\n",
       "    </tr>\n",
       "  </thead>\n",
       "  <tbody>\n",
       "    <tr>\n",
       "      <th>137</th>\n",
       "      <td>Vinnie Pasquantino</td>\n",
       "      <td>13</td>\n",
       "    </tr>\n",
       "  </tbody>\n",
       "</table>\n",
       "</div>"
      ],
      "text/plain": [
       "                   Name  HR\n",
       "137  Vinnie Pasquantino  13"
      ]
     },
     "execution_count": 21,
     "metadata": {},
     "output_type": "execute_result"
    }
   ],
   "source": [
    "data[data['Name']=='Vinnie Pasquantino'][['Name','HR']]"
   ]
  },
  {
   "cell_type": "code",
   "execution_count": null,
   "id": "2b89e093-1bac-4789-b0c1-2737c06ee18b",
   "metadata": {},
   "outputs": [],
   "source": []
  }
 ],
 "metadata": {
  "kernelspec": {
   "display_name": "Python 3 (ipykernel)",
   "language": "python",
   "name": "python3"
  },
  "language_info": {
   "codemirror_mode": {
    "name": "ipython",
    "version": 3
   },
   "file_extension": ".py",
   "mimetype": "text/x-python",
   "name": "python",
   "nbconvert_exporter": "python",
   "pygments_lexer": "ipython3",
   "version": "3.11.7"
  }
 },
 "nbformat": 4,
 "nbformat_minor": 5
}
